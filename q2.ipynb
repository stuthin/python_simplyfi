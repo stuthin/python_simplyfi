def min_players_to_shoot(test_cases):
    results = []
    for n, k, heights in test_cases:
        # Count players taller than K
        count = sum(1 for h in heights if h > k)
        results.append(count)
    return results

# Reading input
import sys
input = sys.stdin.read
data = input().splitlines()

T = int(data[0])
index = 1
test_cases = []

for _ in range(T):
    n, k = map(int, data[index].split())
    heights = list(map(int, data[index + 1].split()))
    test_cases.append((n, k, heights))
    index += 2

# Process the test cases
results = min_players_to_shoot(test_cases)

# Print the results
for result in results:
    print(result)
